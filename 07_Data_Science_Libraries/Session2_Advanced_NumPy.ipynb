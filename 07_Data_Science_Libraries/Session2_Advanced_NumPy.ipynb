{
  "nbformat": 4,
  "nbformat_minor": 0,
  "metadata": {
    "colab": {
      "provenance": []
    },
    "kernelspec": {
      "name": "python3",
      "display_name": "Python 3"
    },
    "language_info": {
      "name": "python"
    }
  },
  "cells": [
    {
      "cell_type": "markdown",
      "source": [
        "# Numpy arrays vs **lists**"
      ],
      "metadata": {
        "id": "FlavYq1N4qMb"
      }
    },
    {
      "cell_type": "code",
      "source": [
        "#speed\n",
        "#lists\n",
        "import time\n",
        "a=[i for i in range(10000000)]\n",
        "b=[i for i in range(10000000,20000000)]\n",
        "c=[]\n",
        "start=time.time()\n",
        "for i in range(len(a)):\n",
        "  c.append(a[i]+b[i])\n",
        "print(time.time()-start)\n"
      ],
      "metadata": {
        "colab": {
          "base_uri": "https://localhost:8080/"
        },
        "id": "0ZAyxbbj4wTx",
        "outputId": "fc6cc2da-a1aa-420f-9325-20e777ea1e37"
      },
      "execution_count": null,
      "outputs": [
        {
          "output_type": "stream",
          "name": "stdout",
          "text": [
            "2.1044270992279053\n"
          ]
        }
      ]
    },
    {
      "cell_type": "code",
      "source": [
        "#numpy arrays can change its storage capabilityi.e from int64 to int32 etc ,but lists cannot change its storage capability lots of space is waste in lists, so numpy arrays\n",
        "#mostly used in ml because they are fast and takes less storage."
      ],
      "metadata": {
        "id": "sSpDFWq8tZLr"
      },
      "execution_count": null,
      "outputs": []
    },
    {
      "cell_type": "code",
      "source": [
        "#time module i will make a seperate class on time module dont worry\n",
        "#time.time()----> it gives present time as hrs.min.sec scale"
      ],
      "metadata": {
        "id": "eCLw3B3vta5G"
      },
      "execution_count": null,
      "outputs": []
    },
    {
      "cell_type": "code",
      "source": [
        "#numpy\n",
        "import numpy as np\n",
        "a=np.arange(10000000)\n",
        "b=np.arange(10000000,20000000)\n",
        "start=time.time()\n",
        "c =a + b\n",
        "print(time.time()-start)"
      ],
      "metadata": {
        "colab": {
          "base_uri": "https://localhost:8080/"
        },
        "id": "UD2xYrsL4wnI",
        "outputId": "195e34e6-7c76-433b-c965-b3c5b43fc641"
      },
      "execution_count": null,
      "outputs": [
        {
          "output_type": "stream",
          "name": "stdout",
          "text": [
            "0.032616615295410156\n"
          ]
        }
      ]
    },
    {
      "cell_type": "code",
      "source": [
        "2.10/0.03\n",
        "#numpy is 70 times faster than lists\n",
        "#because numpy is ctype array,lists has dynamic array\n",
        "#lists go the address and locate the element so it takes time"
      ],
      "metadata": {
        "colab": {
          "base_uri": "https://localhost:8080/"
        },
        "id": "VH3GXijz4wo6",
        "outputId": "21338073-7032-40e8-892b-edb02d38c336"
      },
      "execution_count": null,
      "outputs": [
        {
          "output_type": "execute_result",
          "data": {
            "text/plain": [
              "70.0"
            ]
          },
          "metadata": {},
          "execution_count": 16
        }
      ]
    },
    {
      "cell_type": "code",
      "source": [
        "#memory for list\n",
        "a=[i for i in range(10000000)]\n",
        "import sys\n",
        "sys.getsizeof(a)"
      ],
      "metadata": {
        "colab": {
          "base_uri": "https://localhost:8080/"
        },
        "id": "H3rfyTL-4wsr",
        "outputId": "e8e0840b-724f-4849-9c4d-a44e56213cc0"
      },
      "execution_count": null,
      "outputs": [
        {
          "output_type": "execute_result",
          "data": {
            "text/plain": [
              "89095160"
            ]
          },
          "metadata": {},
          "execution_count": 17
        }
      ]
    },
    {
      "cell_type": "code",
      "source": [
        "#memory for numpy---> same but why numpy because we can change memory space numpy occupies only element size but list occupies total size\n",
        "a=np.arange(10000000)\n",
        "sys.getsizeof(a)"
      ],
      "metadata": {
        "colab": {
          "base_uri": "https://localhost:8080/"
        },
        "id": "xpnx8eIO8svQ",
        "outputId": "d80c8f51-de45-47e3-e362-ba045c8210a8"
      },
      "execution_count": null,
      "outputs": [
        {
          "output_type": "execute_result",
          "data": {
            "text/plain": [
              "80000112"
            ]
          },
          "metadata": {},
          "execution_count": 18
        }
      ]
    },
    {
      "cell_type": "code",
      "source": [
        "a=np.arange(10000000,dtype=np.int32)\n",
        "sys.getsizeof(a)\n",
        "#become half of memory\n",
        "#numpy arrays >>> lists\n"
      ],
      "metadata": {
        "colab": {
          "base_uri": "https://localhost:8080/"
        },
        "id": "5UR2CgWK8syX",
        "outputId": "a85691ad-786a-4aa2-9c86-f3e1ef1d25f5"
      },
      "execution_count": null,
      "outputs": [
        {
          "output_type": "execute_result",
          "data": {
            "text/plain": [
              "40000112"
            ]
          },
          "metadata": {},
          "execution_count": 19
        }
      ]
    },
    {
      "cell_type": "code",
      "source": [],
      "metadata": {
        "id": "KHQj4rnOtX3H"
      },
      "execution_count": null,
      "outputs": []
    },
    {
      "cell_type": "markdown",
      "source": [
        "# Advanced **indexing**"
      ],
      "metadata": {
        "id": "0w5oV1UG-rZf"
      }
    },
    {
      "cell_type": "code",
      "source": [
        "#Normal indxing and slicing\n",
        "a=np.arange(9).reshape(3,3)\n",
        "a,a[2,2],a[1,0],a[1:3,:2],a[:2,1:],a[::2,::2],a[::2,:2],a[::2,:1]"
      ],
      "metadata": {
        "colab": {
          "base_uri": "https://localhost:8080/"
        },
        "id": "KCn-UnAa-9_c",
        "outputId": "45133208-c583-4f53-9462-a69bb8180a13"
      },
      "execution_count": null,
      "outputs": [
        {
          "output_type": "execute_result",
          "data": {
            "text/plain": [
              "(array([[0, 1, 2],\n",
              "        [3, 4, 5],\n",
              "        [6, 7, 8]]),\n",
              " np.int64(8),\n",
              " np.int64(3),\n",
              " array([[3, 4],\n",
              "        [6, 7]]),\n",
              " array([[1, 2],\n",
              "        [4, 5]]),\n",
              " array([[0, 2],\n",
              "        [6, 8]]),\n",
              " array([[0, 1],\n",
              "        [6, 7]]),\n",
              " array([[0],\n",
              "        [6]]))"
            ]
          },
          "metadata": {},
          "execution_count": 28
        }
      ]
    },
    {
      "cell_type": "code",
      "source": [
        "#Fancy indexing---> when u tell give me 1st and 3rd row then we will get but when i tell to get 1,3,4 rows u wont get we so solve this by fancy indexing\n",
        "a1=np.arange(16).reshape(4,4)\n",
        "a1,a1[1::2,:],a1[::2]"
      ],
      "metadata": {
        "colab": {
          "base_uri": "https://localhost:8080/"
        },
        "id": "I5I3iWPhAcKE",
        "outputId": "546fc93e-eb84-4bed-e241-76e438c3e87d"
      },
      "execution_count": null,
      "outputs": [
        {
          "output_type": "execute_result",
          "data": {
            "text/plain": [
              "(array([[ 0,  1,  2,  3],\n",
              "        [ 4,  5,  6,  7],\n",
              "        [ 8,  9, 10, 11],\n",
              "        [12, 13, 14, 15]]),\n",
              " array([[ 4,  5,  6,  7],\n",
              "        [12, 13, 14, 15]]),\n",
              " array([[ 0,  1,  2,  3],\n",
              "        [ 8,  9, 10, 11]]))"
            ]
          },
          "metadata": {},
          "execution_count": 37
        }
      ]
    },
    {
      "cell_type": "code",
      "source": [
        "#fancy indexing mat[list[index we want]]\n",
        "a1[[0,1,3]]"
      ],
      "metadata": {
        "colab": {
          "base_uri": "https://localhost:8080/"
        },
        "id": "6MGfm-wtBs-D",
        "outputId": "98f559a9-a0cf-4b09-8f70-99f254d509a2"
      },
      "execution_count": null,
      "outputs": [
        {
          "output_type": "execute_result",
          "data": {
            "text/plain": [
              "array([[ 0,  1,  2,  3],\n",
              "       [ 4,  5,  6,  7],\n",
              "       [12, 13, 14, 15]])"
            ]
          },
          "metadata": {},
          "execution_count": 38
        }
      ]
    },
    {
      "cell_type": "code",
      "source": [
        "a1[:,[1,2,3]]"
      ],
      "metadata": {
        "colab": {
          "base_uri": "https://localhost:8080/"
        },
        "id": "UOilwHnoBtCV",
        "outputId": "a8476f6b-3c61-4f52-f70e-29d0e0dccb59"
      },
      "execution_count": null,
      "outputs": [
        {
          "output_type": "execute_result",
          "data": {
            "text/plain": [
              "array([[ 1,  2,  3],\n",
              "       [ 5,  6,  7],\n",
              "       [ 9, 10, 11],\n",
              "       [13, 14, 15]])"
            ]
          },
          "metadata": {},
          "execution_count": 39
        }
      ]
    },
    {
      "cell_type": "code",
      "source": [
        "#Boolean indexing\n",
        "a=np.random.randint(1,100,24).reshape(6,4)\n",
        "a"
      ],
      "metadata": {
        "colab": {
          "base_uri": "https://localhost:8080/"
        },
        "id": "qP-tEzyKCstZ",
        "outputId": "f875811c-41e3-40e5-e8a1-93f3723cb852"
      },
      "execution_count": null,
      "outputs": [
        {
          "output_type": "execute_result",
          "data": {
            "text/plain": [
              "array([[15, 51, 74, 11],\n",
              "       [ 8, 70, 76, 54],\n",
              "       [63, 14, 57, 42],\n",
              "       [66, 41, 10, 73],\n",
              "       [57, 27, 91, 32],\n",
              "       [81, 56, 14, 66]])"
            ]
          },
          "metadata": {},
          "execution_count": 42
        }
      ]
    },
    {
      "cell_type": "code",
      "source": [
        "a>50"
      ],
      "metadata": {
        "colab": {
          "base_uri": "https://localhost:8080/"
        },
        "id": "7O5mE16lEF79",
        "outputId": "040e1546-6553-44a0-a3c9-65082eeef965"
      },
      "execution_count": null,
      "outputs": [
        {
          "output_type": "execute_result",
          "data": {
            "text/plain": [
              "array([[False,  True,  True, False],\n",
              "       [False,  True,  True,  True],\n",
              "       [ True, False,  True, False],\n",
              "       [ True, False, False,  True],\n",
              "       [ True, False,  True, False],\n",
              "       [ True,  True, False,  True]])"
            ]
          },
          "metadata": {},
          "execution_count": 45
        }
      ]
    },
    {
      "cell_type": "code",
      "source": [
        "#find all numbers greater than 50 matrix[condition]\n",
        "a[a>50]"
      ],
      "metadata": {
        "colab": {
          "base_uri": "https://localhost:8080/"
        },
        "id": "-CGb88CHCswI",
        "outputId": "d5afa5b7-21c3-4f51-a428-2bbd2d459c3d"
      },
      "execution_count": null,
      "outputs": [
        {
          "output_type": "execute_result",
          "data": {
            "text/plain": [
              "array([51, 74, 70, 76, 54, 63, 57, 66, 73, 57, 91, 81, 56, 66])"
            ]
          },
          "metadata": {},
          "execution_count": 44
        }
      ]
    },
    {
      "cell_type": "code",
      "source": [
        "a[(a>50) & (a%2==0)]"
      ],
      "metadata": {
        "colab": {
          "base_uri": "https://localhost:8080/"
        },
        "id": "rdD9v_ZWCszL",
        "outputId": "5a8c03be-8962-4660-dec1-a178afd5ac96"
      },
      "execution_count": null,
      "outputs": [
        {
          "output_type": "execute_result",
          "data": {
            "text/plain": [
              "array([74, 70, 76, 54, 66, 56, 66])"
            ]
          },
          "metadata": {},
          "execution_count": 51
        }
      ]
    },
    {
      "cell_type": "code",
      "source": [
        "a[a%7!=0]"
      ],
      "metadata": {
        "colab": {
          "base_uri": "https://localhost:8080/"
        },
        "id": "CVW9AIQuCs2H",
        "outputId": "24e3fb0f-3df4-4234-e90e-df49d3775b37"
      },
      "execution_count": null,
      "outputs": [
        {
          "output_type": "execute_result",
          "data": {
            "text/plain": [
              "array([15, 51, 74, 11,  8, 76, 54, 57, 66, 41, 10, 73, 57, 27, 32, 81, 66])"
            ]
          },
          "metadata": {},
          "execution_count": 52
        }
      ]
    },
    {
      "cell_type": "markdown",
      "source": [
        "# Broad **casting**"
      ],
      "metadata": {
        "id": "6ACBgZxfE_Y3"
      }
    },
    {
      "cell_type": "code",
      "source": [
        "# prompt: what is broadcasting explain very shortly what exact it is\n",
        "\n",
        "#Broadcasting in NumPy is a mechanism that allows NumPy to work with arrays of different shapes when performing arithmetic operations. It automatically expands the smaller array to match the shape of the larger array without actually duplicating data. This makes operations between differently shaped arrays efficient and easy."
      ],
      "metadata": {
        "id": "LJrmjnh4FOFI"
      },
      "execution_count": null,
      "outputs": []
    },
    {
      "cell_type": "code",
      "source": [
        "#same shape\n",
        "a=np.arange(6).reshape(2,3)\n",
        "b=np.arange(6,12).reshape(2,3)\n",
        "a,b,3,a+b"
      ],
      "metadata": {
        "colab": {
          "base_uri": "https://localhost:8080/"
        },
        "id": "bXOhhsTFGYaE",
        "outputId": "9aca34ec-d5b4-4e05-a04a-f3007a8be1a2"
      },
      "execution_count": null,
      "outputs": [
        {
          "output_type": "execute_result",
          "data": {
            "text/plain": [
              "(array([[0, 1, 2],\n",
              "        [3, 4, 5]]),\n",
              " array([[ 6,  7,  8],\n",
              "        [ 9, 10, 11]]),\n",
              " 3,\n",
              " array([[ 6,  8, 10],\n",
              "        [12, 14, 16]]))"
            ]
          },
          "metadata": {},
          "execution_count": 58
        }
      ]
    },
    {
      "cell_type": "code",
      "source": [
        "#diff shape----> addition of different shape  is also possible due to broad casting\n",
        "a=np.arange(6).reshape(2,3)\n",
        "b=np.arange(3).reshape(1,3)\n",
        "a+b"
      ],
      "metadata": {
        "colab": {
          "base_uri": "https://localhost:8080/"
        },
        "id": "vL9Q9gF6GYcd",
        "outputId": "d22afcc1-e87a-4f91-ea90-5ef4aa7b6438"
      },
      "execution_count": null,
      "outputs": [
        {
          "output_type": "execute_result",
          "data": {
            "text/plain": [
              "array([[0, 2, 4],\n",
              "       [3, 5, 7]])"
            ]
          },
          "metadata": {},
          "execution_count": 60
        }
      ]
    },
    {
      "cell_type": "markdown",
      "source": [
        "broadcasting rules---->\n",
        "Rule 1: Prepending Ones for Different Ranks: If two arrays have a different number of dimensions (ranks), the shape of the array with fewer dimensions is padded with ones on its leading (left) side until both shapes have the same length.\n",
        "\n",
        "Rule 2: Dimension Compatibility: In any given dimension, the sizes of the arrays must either be equal, or one of them must be 1. If a dimension has a size of 1, it is \"stretched\" to match the size of the other array's corresponding dimension.\n",
        "\n",
        "Rule 3: Incompatible Dimensions Raise Error: If, for any dimension, the sizes of the arrays are neither equal nor is one of them equal to 1, a ValueError is raised, indicating that the arrays are not broadcastable.\n",
        "Python\n",
        "\n"
      ],
      "metadata": {
        "id": "k8wt9tTxH7jS"
      }
    },
    {
      "cell_type": "markdown",
      "source": [
        "![image.png](data:image/png;base64,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)"
      ],
      "metadata": {
        "id": "9hu4F8kzJmbh"
      }
    },
    {
      "cell_type": "markdown",
      "source": [],
      "metadata": {
        "id": "8KRpTJ9epNXV"
      }
    },
    {
      "cell_type": "code",
      "source": [
        "# Broadcasting with Image Data:\n",
        "# In image processing, images are often represented as NumPy arrays, typically with shapes like (height, width, channels) for color images or (height, width) for grayscale images. Broadcasting simplifies operations like:\n",
        "# Adding a constant value to all pixels: A scalar value can be broadcasted across the entire image array.\n",
        "# Adjusting color channels independently: A 1D array representing color adjustments (e.g., [red_adjust, green_adjust, blue_adjust]) can be broadcasted across the channel dimension of a color image. For example, if an image has a shape of (H, W, 3) and a color adjustment array has a shape of (3,), NumPy will effectively reshape the color adjustment array to (1, 1, 3) and then broadcast it across the H and W dimensions.\n",
        "# Applying a filter or mask: A smaller filter kernel can be broadcasted across a larger image for convolution-like operations, although dedicated functions like scipy.ndimage.convolve are often used for such tasks."
      ],
      "metadata": {
        "id": "uD9FoPYgpHyc"
      },
      "execution_count": null,
      "outputs": []
    },
    {
      "cell_type": "markdown",
      "source": [
        "![image.png](data:image/png;base64,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)"
      ],
      "metadata": {
        "id": "bZwJNebMvmXt"
      }
    },
    {
      "cell_type": "code",
      "source": [
        "# hence as we learn we cant add different dimension matrices but in numpy its possible"
      ],
      "metadata": {
        "id": "VIeeIXwbvTEf"
      },
      "execution_count": null,
      "outputs": []
    },
    {
      "cell_type": "code",
      "source": [
        "#in different shapes it converts into same shape then it add\n",
        "a=np.arange(12).reshape(4,3)\n",
        "b=np.arange(3)\n",
        "a+b"
      ],
      "metadata": {
        "colab": {
          "base_uri": "https://localhost:8080/"
        },
        "id": "dRC_j7XWJl6C",
        "outputId": "9a788a2a-c0c3-44ce-8ee1-de997ffca666"
      },
      "execution_count": null,
      "outputs": [
        {
          "output_type": "execute_result",
          "data": {
            "text/plain": [
              "array([[ 0,  2,  4],\n",
              "       [ 3,  5,  7],\n",
              "       [ 6,  8, 10],\n",
              "       [ 9, 11, 13]])"
            ]
          },
          "metadata": {},
          "execution_count": 63
        }
      ]
    },
    {
      "cell_type": "code",
      "source": [
        "a=np.arange(3).reshape(1,3)\n",
        "b=np.arange(3).reshape(3,1)\n",
        "a+b\n",
        "# we can strech it from both sides\n",
        "#steps\n",
        "#1.dimension match by adding 1's by left in lower dimension array\n",
        "#2.increase 1 to match the result"
      ],
      "metadata": {
        "colab": {
          "base_uri": "https://localhost:8080/"
        },
        "id": "zy03Sm9JI9vt",
        "outputId": "03c22e1f-734e-46b2-c92c-66b48ca8fedb"
      },
      "execution_count": null,
      "outputs": [
        {
          "output_type": "execute_result",
          "data": {
            "text/plain": [
              "array([[0, 1, 2],\n",
              "       [1, 2, 3],\n",
              "       [2, 3, 4]])"
            ]
          },
          "metadata": {},
          "execution_count": 64
        }
      ]
    },
    {
      "cell_type": "markdown",
      "source": [
        "# Mathematical Formulas"
      ],
      "metadata": {
        "id": "rriwm5RrPh-h"
      }
    },
    {
      "cell_type": "code",
      "source": [
        "a=np.arange(3)\n",
        "np.sin(a)"
      ],
      "metadata": {
        "colab": {
          "base_uri": "https://localhost:8080/"
        },
        "id": "RpnXI9TTPnM3",
        "outputId": "adc57548-f5b1-4ef2-b0dd-b3b332b1dd1e"
      },
      "execution_count": null,
      "outputs": [
        {
          "output_type": "execute_result",
          "data": {
            "text/plain": [
              "array([0.        , 0.84147098, 0.90929743])"
            ]
          },
          "metadata": {},
          "execution_count": 65
        }
      ]
    },
    {
      "cell_type": "code",
      "source": [
        "#sigmoid\n",
        "\n",
        "def sigmoid(arr):\n",
        "    return 1/(1+np.exp(-arr))\n",
        "a=np.arange(100)\n",
        "sigmoid(a)\n"
      ],
      "metadata": {
        "colab": {
          "base_uri": "https://localhost:8080/"
        },
        "id": "PuGt8td7QDRR",
        "outputId": "5c6a1326-7d70-4e32-b5db-2ad765c0ddb3"
      },
      "execution_count": null,
      "outputs": [
        {
          "output_type": "execute_result",
          "data": {
            "text/plain": [
              "array([0.5       , 0.73105858, 0.88079708, 0.95257413, 0.98201379,\n",
              "       0.99330715, 0.99752738, 0.99908895, 0.99966465, 0.99987661,\n",
              "       0.9999546 , 0.9999833 , 0.99999386, 0.99999774, 0.99999917,\n",
              "       0.99999969, 0.99999989, 0.99999996, 0.99999998, 0.99999999,\n",
              "       1.        , 1.        , 1.        , 1.        , 1.        ,\n",
              "       1.        , 1.        , 1.        , 1.        , 1.        ,\n",
              "       1.        , 1.        , 1.        , 1.        , 1.        ,\n",
              "       1.        , 1.        , 1.        , 1.        , 1.        ,\n",
              "       1.        , 1.        , 1.        , 1.        , 1.        ,\n",
              "       1.        , 1.        , 1.        , 1.        , 1.        ,\n",
              "       1.        , 1.        , 1.        , 1.        , 1.        ,\n",
              "       1.        , 1.        , 1.        , 1.        , 1.        ,\n",
              "       1.        , 1.        , 1.        , 1.        , 1.        ,\n",
              "       1.        , 1.        , 1.        , 1.        , 1.        ,\n",
              "       1.        , 1.        , 1.        , 1.        , 1.        ,\n",
              "       1.        , 1.        , 1.        , 1.        , 1.        ,\n",
              "       1.        , 1.        , 1.        , 1.        , 1.        ,\n",
              "       1.        , 1.        , 1.        , 1.        , 1.        ,\n",
              "       1.        , 1.        , 1.        , 1.        , 1.        ,\n",
              "       1.        , 1.        , 1.        , 1.        , 1.        ])"
            ]
          },
          "metadata": {},
          "execution_count": 78
        }
      ]
    },
    {
      "cell_type": "code",
      "source": [
        "#mean square error\n",
        "actual=np.random.randint(1,50,25)\n",
        "predicted=np.random.randint(1,50,25)\n",
        "def mse(actual,predicted):\n",
        "    return np.mean((actual-predicted)**2)\n",
        "mse(actual,predicted)"
      ],
      "metadata": {
        "colab": {
          "base_uri": "https://localhost:8080/"
        },
        "id": "wBpST4EDQDap",
        "outputId": "395e25be-5ea2-4878-f408-d1676c83cf68"
      },
      "execution_count": null,
      "outputs": [
        {
          "output_type": "execute_result",
          "data": {
            "text/plain": [
              "np.float64(488.84)"
            ]
          },
          "metadata": {},
          "execution_count": 79
        }
      ]
    },
    {
      "cell_type": "code",
      "source": [
        "#binary cross entropy\n",
        "actual=np.random.randint(0,2,50)\n",
        "predicted=np.random.rand(50)\n",
        "def bce(actual,predicted):\n",
        "    predicted=np.clip(predicted,0.000001,1-0.000001)\n",
        "    return -np.mean(actual*np.log(predicted)+(1-actual)*np.log(1-predicted))\n",
        "bce(actual,predicted)\n"
      ],
      "metadata": {
        "colab": {
          "base_uri": "https://localhost:8080/"
        },
        "id": "Jy8jk27ySjBh",
        "outputId": "220891f7-77f8-412b-c592-bbab8f53d4c8"
      },
      "execution_count": null,
      "outputs": [
        {
          "output_type": "execute_result",
          "data": {
            "text/plain": [
              "np.float64(0.9733832837473657)"
            ]
          },
          "metadata": {},
          "execution_count": 80
        }
      ]
    },
    {
      "cell_type": "markdown",
      "source": [
        "# Working with missing **arrays**"
      ],
      "metadata": {
        "id": "WSXzTAZ_TT-P"
      }
    },
    {
      "cell_type": "code",
      "source": [
        "a=np.array([1,2,3,np.nan,5,6,7,np.nan])\n",
        "#nan===msiing value\n",
        "a"
      ],
      "metadata": {
        "colab": {
          "base_uri": "https://localhost:8080/"
        },
        "id": "bOMT4x-HTaZg",
        "outputId": "e74e14f7-6c7c-4009-aceb-fa4bc1bef744"
      },
      "execution_count": null,
      "outputs": [
        {
          "output_type": "execute_result",
          "data": {
            "text/plain": [
              "array([ 1.,  2.,  3., nan,  5.,  6.,  7., nan])"
            ]
          },
          "metadata": {},
          "execution_count": 81
        }
      ]
    },
    {
      "cell_type": "code",
      "source": [
        "#isnan\n",
        "np.isnan(a)"
      ],
      "metadata": {
        "colab": {
          "base_uri": "https://localhost:8080/"
        },
        "id": "UN2JwFRPTadu",
        "outputId": "b3eb7364-bc8a-435f-e0d6-46297871ee42"
      },
      "execution_count": null,
      "outputs": [
        {
          "output_type": "execute_result",
          "data": {
            "text/plain": [
              "array([False, False, False,  True, False, False, False,  True])"
            ]
          },
          "metadata": {},
          "execution_count": 82
        }
      ]
    },
    {
      "cell_type": "code",
      "source": [
        "#removes missing values\n",
        "a[~(np.isnan(a))]"
      ],
      "metadata": {
        "colab": {
          "base_uri": "https://localhost:8080/"
        },
        "id": "e-2k_pxLTag7",
        "outputId": "01bc0f1f-0038-4d53-e42f-bf3fda5ce5ab"
      },
      "execution_count": null,
      "outputs": [
        {
          "output_type": "execute_result",
          "data": {
            "text/plain": [
              "array([1., 2., 3., 5., 6., 7.])"
            ]
          },
          "metadata": {},
          "execution_count": 83
        }
      ]
    },
    {
      "cell_type": "markdown",
      "source": [
        "# **PLOTTING**"
      ],
      "metadata": {
        "id": "5ckUmrg_VDdz"
      }
    },
    {
      "cell_type": "code",
      "source": [
        "#plotting a 2d plot\n",
        "#x=y\n",
        "x=np.linspace(-10,10,100)\n",
        "y=x\n",
        "z=x**2\n",
        "plt.subplot(2,1,2)\n",
        "plt.plot(x,y)\n",
        "plt.subplot(2,1,1)\n",
        "plt.plot(x,z)\n",
        "plt.show()"
      ],
      "metadata": {
        "colab": {
          "base_uri": "https://localhost:8080/",
          "height": 430
        },
        "id": "3KZx3vFJVJyy",
        "outputId": "67442f62-3a6d-40ce-f47b-d441db960eb4"
      },
      "execution_count": null,
      "outputs": [
        {
          "output_type": "display_data",
          "data": {
            "text/plain": [
              "<Figure size 640x480 with 2 Axes>"
            ],
            "image/png": "[encoded data removed]"
          },
          "metadata": {}
        }
      ]
    },
    {
      "cell_type": "code",
      "source": [
        "#xlogx\n",
        "y=x*np.log(x)\n",
        "plt.plot(x,y)"
      ],
      "metadata": {
        "colab": {
          "base_uri": "https://localhost:8080/",
          "height": 485
        },
        "id": "KcIf_BCaVJ3_",
        "outputId": "1eacaf47-500f-4857-99aa-b04d7134df1e"
      },
      "execution_count": null,
      "outputs": [
        {
          "output_type": "stream",
          "name": "stderr",
          "text": [
            "/tmp/ipython-input-94-1217372713.py:2: RuntimeWarning: invalid value encountered in log\n",
            "  y=x*np.log(x)\n"
          ]
        },
        {
          "output_type": "execute_result",
          "data": {
            "text/plain": [
              "[<matplotlib.lines.Line2D at 0x7a526a76a890>]"
            ]
          },
          "metadata": {},
          "execution_count": 94
        },
        {
          "output_type": "display_data",
          "data": {
            "text/plain": [
              "<Figure size 640x480 with 1 Axes>"
            ],
            "image/png": "[encoded data removed]"
          },
          "metadata": {}
        }
      ]
    },
    {
      "cell_type": "code",
      "source": [
        "y=1/(1+np.exp(-1*x))\n",
        "plt.plot(x,y)"
      ],
      "metadata": {
        "colab": {
          "base_uri": "https://localhost:8080/",
          "height": 448
        },
        "id": "B6V8iNLvW0-t",
        "outputId": "252bd271-4c56-4cca-f572-910ab7ba7a14"
      },
      "execution_count": null,
      "outputs": [
        {
          "output_type": "execute_result",
          "data": {
            "text/plain": [
              "[<matplotlib.lines.Line2D at 0x7a52939e3690>]"
            ]
          },
          "metadata": {},
          "execution_count": 102
        },
        {
          "output_type": "display_data",
          "data": {
            "text/plain": [
              "<Figure size 640x480 with 1 Axes>"
            ],
            "image/png": "[encoded data removed]"
          },
          "metadata": {}
        }
      ]
    }
  ]
}