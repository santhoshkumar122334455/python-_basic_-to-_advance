{
  "nbformat": 4,
  "nbformat_minor": 0,
  "metadata": {
    "colab": {
      "provenance": [],
      "collapsed_sections": [
        "ybMF2i49Qsj0",
        "YBEngYW0Rwvj",
        "qaHh4LM-VMv3",
        "J7UdPikhoci0"
      ],
      "toc_visible": true
    },
    "kernelspec": {
      "name": "python3",
      "display_name": "Python 3"
    },
    "language_info": {
      "name": "python"
    }
  },
  "cells": [
    {
      "cell_type": "markdown",
      "source": [
        "#creation of arrays"
      ],
      "metadata": {
        "id": "QdC55VIDDzoM"
      }
    },
    {
      "cell_type": "code",
      "source": [
        "#numpy---->1-d,2-d,3-d\n",
        "import numpy as np\n",
        "#1-d called as vector i.e 1d is combination of 0-d matrix\n",
        "np.array([1,2,3,4,4])"
      ],
      "metadata": {
        "colab": {
          "base_uri": "https://localhost:8080/"
        },
        "id": "IkPefmlGC2mb",
        "outputId": "7eba7ee9-eb9e-4c2a-c78f-77bd8c096f8d"
      },
      "execution_count": null,
      "outputs": [
        {
          "output_type": "execute_result",
          "data": {
            "text/plain": [
              "array([1, 2, 3, 4, 4])"
            ]
          },
          "metadata": {},
          "execution_count": 2
        }
      ]
    },
    {
      "cell_type": "code",
      "source": [
        "#2d called as matrix i.e is combination of 1d matrix\n",
        "np.array([[1,2,3],[4,5,8]])"
      ],
      "metadata": {
        "colab": {
          "base_uri": "https://localhost:8080/"
        },
        "id": "iat9F7cUEjtw",
        "outputId": "c856b50f-8398-4f12-db01-091042392fc7"
      },
      "execution_count": null,
      "outputs": [
        {
          "output_type": "execute_result",
          "data": {
            "text/plain": [
              "array([[1, 2, 3],\n",
              "       [4, 5, 8]])"
            ]
          },
          "metadata": {},
          "execution_count": 3
        }
      ]
    },
    {
      "cell_type": "code",
      "source": [
        "#3D called as tensor i.e 3d is combination of 2d matrix\n",
        "a1=np.array([[[1,2,3],[2,3,1]],[[1,1,1,],[1,2,1]]])\n",
        "print(a1)\n",
        "print(type(a1))\n",
        "np.ndim(a1)"
      ],
      "metadata": {
        "colab": {
          "base_uri": "https://localhost:8080/"
        },
        "id": "hnCdsGG5Elkn",
        "outputId": "cfd00353-a99e-4296-824d-4040e63b71bf"
      },
      "execution_count": null,
      "outputs": [
        {
          "output_type": "stream",
          "name": "stdout",
          "text": [
            "[[[1 2 3]\n",
            "  [2 3 1]]\n",
            "\n",
            " [[1 1 1]\n",
            "  [1 2 1]]]\n",
            "<class 'numpy.ndarray'>\n"
          ]
        },
        {
          "output_type": "execute_result",
          "data": {
            "text/plain": [
              "3"
            ]
          },
          "metadata": {},
          "execution_count": 4
        }
      ]
    },
    {
      "cell_type": "code",
      "source": [
        "# prompt: what is numpy\n",
        "\n",
        "print(\"\"\"\n",
        "NumPy is a library for the Python programming language, adding support for large, multi-dimensional arrays and matrices,\n",
        "along with a large collection of high-level mathematical functions to operate on these arrays.\n",
        "\"\"\")\n"
      ],
      "metadata": {
        "id": "0jdRr23LI2H4"
      },
      "execution_count": null,
      "outputs": []
    },
    {
      "cell_type": "code",
      "source": [
        "#dtype\n",
        "a1=np.array([1,2,3],dtype=bool)\n",
        "a2=np.array([1,2,1],dtype=complex)\n",
        "a1,a2"
      ],
      "metadata": {
        "colab": {
          "base_uri": "https://localhost:8080/"
        },
        "id": "ypEybx4rJAIg",
        "outputId": "23f7a681-a903-46a8-f034-ee676a69826d"
      },
      "execution_count": null,
      "outputs": [
        {
          "output_type": "execute_result",
          "data": {
            "text/plain": [
              "(array([ True,  True,  True]), array([1.+0.j, 2.+0.j, 1.+0.j]))"
            ]
          },
          "metadata": {},
          "execution_count": 22
        }
      ]
    },
    {
      "cell_type": "code",
      "source": [
        "#np.arange(start,end,increment/decrement) last one excluded\n",
        "np.arange(1,10,1)"
      ],
      "metadata": {
        "colab": {
          "base_uri": "https://localhost:8080/"
        },
        "id": "kzdH4dEHKbsY",
        "outputId": "fcaf12a8-2873-4fab-9a39-b7b210b79e71"
      },
      "execution_count": null,
      "outputs": [
        {
          "output_type": "execute_result",
          "data": {
            "text/plain": [
              "array([1, 2, 3, 4, 5, 6, 7, 8, 9])"
            ]
          },
          "metadata": {},
          "execution_count": 26
        }
      ]
    },
    {
      "cell_type": "code",
      "source": [
        "#reshape---> convert into ur required dimension\n",
        "#product of rows nd columns is should equal to no. of elelments\n",
        "np.arange(1,10,1).reshape(3,3)"
      ],
      "metadata": {
        "colab": {
          "base_uri": "https://localhost:8080/"
        },
        "id": "hV3BcmMwK5rz",
        "outputId": "b9dc8874-e7c5-4493-feac-80f26a79f14d"
      },
      "execution_count": null,
      "outputs": [
        {
          "output_type": "execute_result",
          "data": {
            "text/plain": [
              "array([[1, 2, 3],\n",
              "       [4, 5, 6],\n",
              "       [7, 8, 9]])"
            ]
          },
          "metadata": {},
          "execution_count": 27
        }
      ]
    },
    {
      "cell_type": "code",
      "source": [
        "#np.ones,np.zeroes----> neural n/w's\n",
        "np.ones((3,3))"
      ],
      "metadata": {
        "colab": {
          "base_uri": "https://localhost:8080/"
        },
        "id": "sVSRgSY8LX_3",
        "outputId": "d25b3013-5377-4e2e-9c90-533c2a8b4ffc"
      },
      "execution_count": null,
      "outputs": [
        {
          "output_type": "execute_result",
          "data": {
            "text/plain": [
              "array([[1., 1., 1.],\n",
              "       [1., 1., 1.],\n",
              "       [1., 1., 1.]])"
            ]
          },
          "metadata": {},
          "execution_count": 28
        }
      ]
    },
    {
      "cell_type": "code",
      "source": [
        "np.zeros((2,3))"
      ],
      "metadata": {
        "colab": {
          "base_uri": "https://localhost:8080/"
        },
        "id": "6zSJ6fHPLrQt",
        "outputId": "d55ebdf6-d752-46c7-c91d-7270f666d47d"
      },
      "execution_count": null,
      "outputs": [
        {
          "output_type": "execute_result",
          "data": {
            "text/plain": [
              "array([[0., 0., 0.],\n",
              "       [0., 0., 0.]])"
            ]
          },
          "metadata": {},
          "execution_count": 30
        }
      ]
    },
    {
      "cell_type": "code",
      "source": [
        "#np.random\n",
        "np.random.random((1,3))"
      ],
      "metadata": {
        "colab": {
          "base_uri": "https://localhost:8080/"
        },
        "id": "SITopxsML1wx",
        "outputId": "5b26db6e-2751-4356-84ea-ce6580c3388f"
      },
      "execution_count": null,
      "outputs": [
        {
          "output_type": "execute_result",
          "data": {
            "text/plain": [
              "array([[0.76965504, 0.52099187, 0.79453388]])"
            ]
          },
          "metadata": {},
          "execution_count": 32
        }
      ]
    },
    {
      "cell_type": "code",
      "source": [
        "#np.linspace--->(start,end,no. of items/how much should start and end divide)\n",
        "np.linspace(1,10,5)\n",
        "# ending is involved"
      ],
      "metadata": {
        "colab": {
          "base_uri": "https://localhost:8080/"
        },
        "id": "y12G9yhzMF2Z",
        "outputId": "bdc04746-2f4e-4655-9657-c63ddd5cb3de"
      },
      "execution_count": null,
      "outputs": [
        {
          "output_type": "execute_result",
          "data": {
            "text/plain": [
              "array([ 1.  ,  3.25,  5.5 ,  7.75, 10.  ])"
            ]
          },
          "metadata": {},
          "execution_count": 36
        }
      ]
    },
    {
      "cell_type": "code",
      "source": [
        "#identity matrix\n",
        "np.identity(3)"
      ],
      "metadata": {
        "colab": {
          "base_uri": "https://localhost:8080/"
        },
        "id": "ZD-xyfNYMiUa",
        "outputId": "c3b79d10-a770-4ca8-8ee7-d2591ebb3868"
      },
      "execution_count": null,
      "outputs": [
        {
          "output_type": "execute_result",
          "data": {
            "text/plain": [
              "array([[1., 0., 0.],\n",
              "       [0., 1., 0.],\n",
              "       [0., 0., 1.]])"
            ]
          },
          "metadata": {},
          "execution_count": 37
        }
      ]
    },
    {
      "cell_type": "markdown",
      "source": [
        "# Array atrributes"
      ],
      "metadata": {
        "id": "zFkeX3F3M84e"
      }
    },
    {
      "cell_type": "code",
      "source": [
        "#1d,2d,3d\n",
        "a1=np.arange(10)\n",
        "a2=np.arange(12,dtype=float).reshape(3,4)\n",
        "a3=np.arange(8).reshape(2,2,2)\n"
      ],
      "metadata": {
        "id": "MxRVfCLnNGvX"
      },
      "execution_count": null,
      "outputs": []
    },
    {
      "cell_type": "code",
      "source": [
        "a1"
      ],
      "metadata": {
        "colab": {
          "base_uri": "https://localhost:8080/"
        },
        "id": "f0IT_VRId1wy",
        "outputId": "28fbb74c-5ebe-4640-e851-aa0bc9897301"
      },
      "execution_count": null,
      "outputs": [
        {
          "output_type": "execute_result",
          "data": {
            "text/plain": [
              "array([0, 1, 2, 3, 4, 5, 6, 7, 8, 9])"
            ]
          },
          "metadata": {},
          "execution_count": 6
        }
      ]
    },
    {
      "cell_type": "code",
      "source": [
        "#ndim--> tells dimesnion of array\n",
        "a1.ndim,a2.ndim,a3.ndim"
      ],
      "metadata": {
        "colab": {
          "base_uri": "https://localhost:8080/"
        },
        "id": "F40KM3lRNxRO",
        "outputId": "412ce58f-f416-498e-d381-9cea9b49958e"
      },
      "execution_count": null,
      "outputs": [
        {
          "output_type": "execute_result",
          "data": {
            "text/plain": [
              "(1, 2, 3)"
            ]
          },
          "metadata": {},
          "execution_count": 46
        }
      ]
    },
    {
      "cell_type": "code",
      "source": [
        "#shape(2,2,2)--->3d(no. of 2d matrices,rows,col)\n",
        "a1.shape,a2.shape,a3.shape\n"
      ],
      "metadata": {
        "colab": {
          "base_uri": "https://localhost:8080/"
        },
        "id": "GoVpIVTOOGJI",
        "outputId": "a0d3dffe-3c48-4f4b-fd66-d7b15759f17b"
      },
      "execution_count": null,
      "outputs": [
        {
          "output_type": "execute_result",
          "data": {
            "text/plain": [
              "((10,), (3, 4), (2, 2, 2))"
            ]
          },
          "metadata": {},
          "execution_count": 50
        }
      ]
    },
    {
      "cell_type": "code",
      "source": [
        "#size---> no. of items\n",
        "a3.size"
      ],
      "metadata": {
        "colab": {
          "base_uri": "https://localhost:8080/"
        },
        "id": "FTgeuilOOv-8",
        "outputId": "dabdc6a1-9bd7-46fa-dc10-f15b454a4b30"
      },
      "execution_count": null,
      "outputs": [
        {
          "output_type": "execute_result",
          "data": {
            "text/plain": [
              "8"
            ]
          },
          "metadata": {},
          "execution_count": 51
        }
      ]
    },
    {
      "cell_type": "code",
      "source": [
        "#item size---> no of bits it take\n",
        "a3.itemsize"
      ],
      "metadata": {
        "colab": {
          "base_uri": "https://localhost:8080/"
        },
        "id": "A2PrZivrO4fj",
        "outputId": "b7453ba8-4c6d-4981-d1f9-46c0e5aa4c0e"
      },
      "execution_count": null,
      "outputs": [
        {
          "output_type": "execute_result",
          "data": {
            "text/plain": [
              "8"
            ]
          },
          "metadata": {},
          "execution_count": 52
        }
      ]
    },
    {
      "cell_type": "code",
      "source": [
        "a4=np.arange(12,dtype=np.int32)\n",
        "a4.itemsize\n",
        "# int32 takes 4 bites but dfault is int64 but in numpy you can change memory"
      ],
      "metadata": {
        "colab": {
          "base_uri": "https://localhost:8080/"
        },
        "id": "S1bTu0MjPR0-",
        "outputId": "117c97e4-46c6-4dfd-c814-f7c7f615ae0e"
      },
      "execution_count": null,
      "outputs": [
        {
          "output_type": "execute_result",
          "data": {
            "text/plain": [
              "4"
            ]
          },
          "metadata": {},
          "execution_count": 55
        }
      ]
    },
    {
      "cell_type": "code",
      "source": [
        "a5=np.arange(3,dtype=np.int8)\n",
        "a5.itemsize"
      ],
      "metadata": {
        "colab": {
          "base_uri": "https://localhost:8080/"
        },
        "id": "mk10lmA1PlL3",
        "outputId": "7ca13b68-593c-453a-82a6-045318d56272"
      },
      "execution_count": null,
      "outputs": [
        {
          "output_type": "execute_result",
          "data": {
            "text/plain": [
              "1"
            ]
          },
          "metadata": {},
          "execution_count": 60
        }
      ]
    },
    {
      "cell_type": "code",
      "source": [
        "#dtype----> gives memory occupation\n",
        "print(a1.dtype)\n",
        "print(a2.dtype)\n",
        "print(a3.dtype)\n",
        "print(a4.dtype)\n",
        "print(a5.dtype)\n",
        "a1.dtype,a2.dtype,a3.dtype,a4.dtype,a5.dtype"
      ],
      "metadata": {
        "colab": {
          "base_uri": "https://localhost:8080/"
        },
        "id": "g-z8OJNiQHS2",
        "outputId": "48a895f7-185e-4cc6-88e5-c8fc9c4be825"
      },
      "execution_count": null,
      "outputs": [
        {
          "output_type": "stream",
          "name": "stdout",
          "text": [
            "int64\n",
            "float64\n",
            "int64\n",
            "int32\n",
            "int8\n"
          ]
        },
        {
          "output_type": "execute_result",
          "data": {
            "text/plain": [
              "(dtype('int64'),\n",
              " dtype('float64'),\n",
              " dtype('int64'),\n",
              " dtype('int32'),\n",
              " dtype('int8'))"
            ]
          },
          "metadata": {},
          "execution_count": 63
        }
      ]
    },
    {
      "cell_type": "markdown",
      "source": [
        "# Changing datatype"
      ],
      "metadata": {
        "id": "ybMF2i49Qsj0"
      }
    },
    {
      "cell_type": "code",
      "source": [
        "#astype----> remove access memory\n",
        "a1.astype(np.int32)\n"
      ],
      "metadata": {
        "colab": {
          "base_uri": "https://localhost:8080/"
        },
        "id": "wJocXHyeQ3v5",
        "outputId": "6fd98925-fce7-45b8-da3d-89593bbc12ad"
      },
      "execution_count": null,
      "outputs": [
        {
          "output_type": "execute_result",
          "data": {
            "text/plain": [
              "array([0, 1, 2, 3, 4, 5, 6, 7, 8, 9], dtype=int32)"
            ]
          },
          "metadata": {},
          "execution_count": 68
        }
      ]
    },
    {
      "cell_type": "markdown",
      "source": [
        "#Array opertions"
      ],
      "metadata": {
        "id": "YBEngYW0Rwvj"
      }
    },
    {
      "cell_type": "code",
      "source": [
        "a1=np.arange(12).reshape(3,4)\n",
        "a2=np.arange(12,24).reshape(3,4)\n",
        "a1"
      ],
      "metadata": {
        "colab": {
          "base_uri": "https://localhost:8080/"
        },
        "id": "-kjKdtkRR6Ta",
        "outputId": "32be3e3c-0137-494f-b668-f99566cd0025"
      },
      "execution_count": null,
      "outputs": [
        {
          "output_type": "execute_result",
          "data": {
            "text/plain": [
              "array([[ 0,  1,  2,  3],\n",
              "       [ 4,  5,  6,  7],\n",
              "       [ 8,  9, 10, 11]])"
            ]
          },
          "metadata": {},
          "execution_count": 73
        }
      ]
    },
    {
      "cell_type": "code",
      "source": [
        "a2"
      ],
      "metadata": {
        "colab": {
          "base_uri": "https://localhost:8080/"
        },
        "id": "yFFa3JjgSzv6",
        "outputId": "8349e512-9c98-4eab-fa44-e6db1c971f1f"
      },
      "execution_count": null,
      "outputs": [
        {
          "output_type": "execute_result",
          "data": {
            "text/plain": [
              "array([[12, 13, 14, 15],\n",
              "       [16, 17, 18, 19],\n",
              "       [20, 21, 22, 23]])"
            ]
          },
          "metadata": {},
          "execution_count": 74
        }
      ]
    },
    {
      "cell_type": "code",
      "source": [
        "#arthemetic /scalar operations\n",
        "1,a1+2,2,a2+12,3,a1-2,4,a1*10,5,a2**2,6,a1/2,7,a2%2"
      ],
      "metadata": {
        "colab": {
          "base_uri": "https://localhost:8080/"
        },
        "id": "-6qkA28KSSWV",
        "outputId": "247a6c4c-81a6-4a20-f37a-8b00ca9ca749"
      },
      "execution_count": null,
      "outputs": [
        {
          "output_type": "execute_result",
          "data": {
            "text/plain": [
              "(1,\n",
              " array([[ 2,  3,  4,  5],\n",
              "        [ 6,  7,  8,  9],\n",
              "        [10, 11, 12, 13]]),\n",
              " 2,\n",
              " array([[24, 25, 26, 27],\n",
              "        [28, 29, 30, 31],\n",
              "        [32, 33, 34, 35]]),\n",
              " 3,\n",
              " array([[-2, -1,  0,  1],\n",
              "        [ 2,  3,  4,  5],\n",
              "        [ 6,  7,  8,  9]]),\n",
              " 4,\n",
              " array([[  0,  10,  20,  30],\n",
              "        [ 40,  50,  60,  70],\n",
              "        [ 80,  90, 100, 110]]),\n",
              " 5,\n",
              " array([[144, 169, 196, 225],\n",
              "        [256, 289, 324, 361],\n",
              "        [400, 441, 484, 529]]),\n",
              " 6,\n",
              " array([[0. , 0.5, 1. , 1.5],\n",
              "        [2. , 2.5, 3. , 3.5],\n",
              "        [4. , 4.5, 5. , 5.5]]),\n",
              " 7,\n",
              " array([[0, 1, 0, 1],\n",
              "        [0, 1, 0, 1],\n",
              "        [0, 1, 0, 1]]))"
            ]
          },
          "metadata": {},
          "execution_count": 78
        }
      ]
    },
    {
      "cell_type": "code",
      "source": [
        "#relational---> gives true or false\n",
        "1,a1>1,2,a2==12,3,a1<4,4,a1!=1\n"
      ],
      "metadata": {
        "colab": {
          "base_uri": "https://localhost:8080/"
        },
        "id": "WCTG6SjPTZoC",
        "outputId": "9be9d72f-e679-4947-c4a5-927e26471a83"
      },
      "execution_count": null,
      "outputs": [
        {
          "output_type": "execute_result",
          "data": {
            "text/plain": [
              "(1,\n",
              " array([[False, False,  True,  True],\n",
              "        [ True,  True,  True,  True],\n",
              "        [ True,  True,  True,  True]]),\n",
              " 2,\n",
              " array([[ True, False, False, False],\n",
              "        [False, False, False, False],\n",
              "        [False, False, False, False]]),\n",
              " 3,\n",
              " array([[ True,  True,  True,  True],\n",
              "        [False, False, False, False],\n",
              "        [False, False, False, False]]),\n",
              " 4,\n",
              " array([[ True, False,  True,  True],\n",
              "        [ True,  True,  True,  True],\n",
              "        [ True,  True,  True,  True]]))"
            ]
          },
          "metadata": {},
          "execution_count": 81
        }
      ]
    },
    {
      "cell_type": "code",
      "source": [
        "#vector operations/arthemetic operations\n",
        "1,a1+a2,2,a1-a2,3,a1/a2,4,a1&a2,5,a1|a2,6,a1**a2,7,a1^a2,8,a1%a2,9,a1==a2"
      ],
      "metadata": {
        "colab": {
          "base_uri": "https://localhost:8080/"
        },
        "id": "K1BaIWLQURsu",
        "outputId": "be7ccd8f-8234-42fc-a954-d308db4e32c0"
      },
      "execution_count": null,
      "outputs": [
        {
          "output_type": "execute_result",
          "data": {
            "text/plain": [
              "(1,\n",
              " array([[12, 14, 16, 18],\n",
              "        [20, 22, 24, 26],\n",
              "        [28, 30, 32, 34]]),\n",
              " 2,\n",
              " array([[-12, -12, -12, -12],\n",
              "        [-12, -12, -12, -12],\n",
              "        [-12, -12, -12, -12]]),\n",
              " 3,\n",
              " array([[0.        , 0.07692308, 0.14285714, 0.2       ],\n",
              "        [0.25      , 0.29411765, 0.33333333, 0.36842105],\n",
              "        [0.4       , 0.42857143, 0.45454545, 0.47826087]]),\n",
              " 4,\n",
              " array([[0, 1, 2, 3],\n",
              "        [0, 1, 2, 3],\n",
              "        [0, 1, 2, 3]]),\n",
              " 5,\n",
              " array([[12, 13, 14, 15],\n",
              "        [20, 21, 22, 23],\n",
              "        [28, 29, 30, 31]]),\n",
              " 6,\n",
              " array([[                   0,                    1,                16384,\n",
              "                     14348907],\n",
              "        [          4294967296,         762939453125,      101559956668416,\n",
              "            11398895185373143],\n",
              "        [ 1152921504606846976, -1261475310744950487,  1864712049423024128,\n",
              "          6839173302027254275]]),\n",
              " 7,\n",
              " array([[12, 12, 12, 12],\n",
              "        [20, 20, 20, 20],\n",
              "        [28, 28, 28, 28]]),\n",
              " 8,\n",
              " array([[ 0,  1,  2,  3],\n",
              "        [ 4,  5,  6,  7],\n",
              "        [ 8,  9, 10, 11]]),\n",
              " 9,\n",
              " array([[False, False, False, False],\n",
              "        [False, False, False, False],\n",
              "        [False, False, False, False]]))"
            ]
          },
          "metadata": {},
          "execution_count": 84
        }
      ]
    },
    {
      "cell_type": "markdown",
      "source": [
        "# Array functions\n"
      ],
      "metadata": {
        "id": "qaHh4LM-VMv3"
      }
    },
    {
      "cell_type": "code",
      "source": [
        "a1=np.random.random((3,3))\n",
        "a1=np.round(a1*100)\n",
        "a1\n",
        "#round (matrix*where to round)--->rounds upto 100"
      ],
      "metadata": {
        "colab": {
          "base_uri": "https://localhost:8080/"
        },
        "id": "4R7fKewAVTGn",
        "outputId": "1d12c08f-080c-4d07-897d-3440a0383e78"
      },
      "execution_count": null,
      "outputs": [
        {
          "output_type": "execute_result",
          "data": {
            "text/plain": [
              "array([[17., 62., 80.],\n",
              "       [80., 83., 15.],\n",
              "       [50., 78., 90.]])"
            ]
          },
          "metadata": {},
          "execution_count": 94
        }
      ]
    },
    {
      "cell_type": "code",
      "source": [
        "#max/min/sum/pro axis=0---->column,axis=1--->row\n",
        "np.max(a1),np.max(a1,axis=0),np.max(a1,axis=1),np.sum(a1),np.sum(a1,axis=0),np.sum(a1,axis=1),np.prod(a1),np.prod(a1,axis=0),np.prod(a1,axis=1)"
      ],
      "metadata": {
        "colab": {
          "base_uri": "https://localhost:8080/"
        },
        "id": "5el3CkbGWIfo",
        "outputId": "c209a91e-2ad6-44a3-8d64-a5921363bb88"
      },
      "execution_count": null,
      "outputs": [
        {
          "output_type": "execute_result",
          "data": {
            "text/plain": [
              "(np.float64(90.0),\n",
              " array([80., 83., 90.]),\n",
              " array([80., 83., 90.]),\n",
              " np.float64(555.0),\n",
              " array([147., 223., 185.]),\n",
              " array([159., 178., 218.]),\n",
              " np.float64(2947793472000000.0),\n",
              " array([ 68000., 401388., 108000.]),\n",
              " array([ 84320.,  99600., 351000.]))"
            ]
          },
          "metadata": {},
          "execution_count": 99
        }
      ]
    },
    {
      "cell_type": "code",
      "source": [
        "#mean/median/std/var\n",
        "np.mean(a1),np.mean(a1,axis=0),np.mean(a1,axis=1),np.median(a1),np.median(a1,axis=0),np.median(a1,axis=1),np.std(a1),np.std(a1,axis=0),np.var(a1),np.var(a1,axis=0)\n"
      ],
      "metadata": {
        "colab": {
          "base_uri": "https://localhost:8080/"
        },
        "id": "R3WOhRP7XKbl",
        "outputId": "953a142f-db8d-4709-b74a-99f077814a9f"
      },
      "execution_count": null,
      "outputs": [
        {
          "output_type": "execute_result",
          "data": {
            "text/plain": [
              "(np.float64(61.666666666666664),\n",
              " array([49.        , 74.33333333, 61.66666667]),\n",
              " array([53.        , 59.33333333, 72.66666667]),\n",
              " np.float64(78.0),\n",
              " array([50., 78., 80.]),\n",
              " array([62., 80., 78.]),\n",
              " np.float64(26.88659310676771),\n",
              " array([25.72936066,  8.9566859 , 33.24989557]),\n",
              " np.float64(722.8888888888889),\n",
              " array([ 662.        ,   80.22222222, 1105.55555556]))"
            ]
          },
          "metadata": {},
          "execution_count": 101
        }
      ]
    },
    {
      "cell_type": "code",
      "source": [
        "#dot product\n",
        "a1=np.arange(1,10,1).reshape(3,3)\n",
        "a2=np.arange(6).reshape(3,2)\n",
        "np.dot(a1,a2)"
      ],
      "metadata": {
        "colab": {
          "base_uri": "https://localhost:8080/"
        },
        "id": "1_L8cG4KXtwr",
        "outputId": "4dc90dce-60e2-4024-aab2-47c09d788480"
      },
      "execution_count": null,
      "outputs": [
        {
          "output_type": "execute_result",
          "data": {
            "text/plain": [
              "array([[16, 22],\n",
              "       [34, 49],\n",
              "       [52, 76]])"
            ]
          },
          "metadata": {},
          "execution_count": 105
        }
      ]
    },
    {
      "cell_type": "code",
      "source": [
        "#log and exponents\n",
        "np.log(a1),np.exp(a1)"
      ],
      "metadata": {
        "colab": {
          "base_uri": "https://localhost:8080/"
        },
        "id": "XMK4mQDDYPYx",
        "outputId": "c7a4f2d7-8d20-47f6-8677-219a670b9569"
      },
      "execution_count": null,
      "outputs": [
        {
          "output_type": "execute_result",
          "data": {
            "text/plain": [
              "(array([[0.        , 0.69314718, 1.09861229],\n",
              "        [1.38629436, 1.60943791, 1.79175947],\n",
              "        [1.94591015, 2.07944154, 2.19722458]]),\n",
              " array([[2.71828183e+00, 7.38905610e+00, 2.00855369e+01],\n",
              "        [5.45981500e+01, 1.48413159e+02, 4.03428793e+02],\n",
              "        [1.09663316e+03, 2.98095799e+03, 8.10308393e+03]]))"
            ]
          },
          "metadata": {},
          "execution_count": 106
        }
      ]
    },
    {
      "cell_type": "code",
      "source": [
        "#round/floor/ceil\n",
        "a1=np.random.random((2,3))*100\n",
        "np.round(a1)\n",
        "#round ---> round off to nearest integer"
      ],
      "metadata": {
        "colab": {
          "base_uri": "https://localhost:8080/"
        },
        "id": "I8vWBNamYUvc",
        "outputId": "8fc9b6c8-4400-468c-9657-af36dfd86860"
      },
      "execution_count": null,
      "outputs": [
        {
          "output_type": "execute_result",
          "data": {
            "text/plain": [
              "array([[ 1., 55., 93.],\n",
              "       [49., 18., 72.]])"
            ]
          },
          "metadata": {},
          "execution_count": 108
        }
      ]
    },
    {
      "cell_type": "code",
      "source": [
        "#floor/ceil\n",
        "np.floor(a1),np.ceil(a1)\n",
        "#floor 6.1 output=6<-----\n",
        "#ceil 6.1 output=7----->\n"
      ],
      "metadata": {
        "colab": {
          "base_uri": "https://localhost:8080/"
        },
        "id": "DSO9DBr2ZAdW",
        "outputId": "d0e7d0b0-e40c-48ee-ad29-7a52e4014d2f"
      },
      "execution_count": null,
      "outputs": [
        {
          "output_type": "execute_result",
          "data": {
            "text/plain": [
              "(array([[ 1., 55., 93.],\n",
              "        [48., 17., 72.]]),\n",
              " array([[ 2., 56., 94.],\n",
              "        [49., 18., 73.]]))"
            ]
          },
          "metadata": {},
          "execution_count": 111
        }
      ]
    },
    {
      "cell_type": "markdown",
      "source": [
        "# Indexing and slicing"
      ],
      "metadata": {
        "id": "4N9IqKXpZtKs"
      }
    },
    {
      "cell_type": "code",
      "source": [
        "#1d,2d,3d\n",
        "a1=np.arange(10)\n",
        "a2=np.arange(9).reshape(3,3)\n",
        "a3=np.arange(8).reshape(2,2,2)\n",
        "1,a1,2,a2,3,a3"
      ],
      "metadata": {
        "colab": {
          "base_uri": "https://localhost:8080/"
        },
        "id": "mpo-0e-IZz35",
        "outputId": "f081977f-c784-476c-f386-a906d0c199fd"
      },
      "execution_count": null,
      "outputs": [
        {
          "output_type": "execute_result",
          "data": {
            "text/plain": [
              "(1,\n",
              " array([0, 1, 2, 3, 4, 5, 6, 7, 8, 9]),\n",
              " 2,\n",
              " array([[0, 1, 2],\n",
              "        [3, 4, 5],\n",
              "        [6, 7, 8]]),\n",
              " 3,\n",
              " array([[[0, 1],\n",
              "         [2, 3]],\n",
              " \n",
              "        [[4, 5],\n",
              "         [6, 7]]]))"
            ]
          },
          "metadata": {},
          "execution_count": 3
        }
      ]
    },
    {
      "cell_type": "code",
      "source": [
        "#indexing for 1d array i.e\n",
        "#0,1,2,3,.....--->+ve indexing\n",
        "#........-3,-2,-1---> -ve indexing\n",
        "print(a1[-1],a1[0],a1[2])"
      ],
      "metadata": {
        "colab": {
          "base_uri": "https://localhost:8080/"
        },
        "id": "2W98AeHyaOh7",
        "outputId": "e70856e5-d208-4fbb-a9a2-b46680fafbe5"
      },
      "execution_count": null,
      "outputs": [
        {
          "output_type": "stream",
          "name": "stdout",
          "text": [
            "9 0 2\n"
          ]
        }
      ]
    },
    {
      "cell_type": "code",
      "source": [
        "#indexing in 2d    matrix[row,col]\n",
        "#--->col  0,1,2\n",
        "#!rows    1\n",
        "#         2\n",
        "a2[1,1],a2[0,0],a2[2,2],a2[2,1]"
      ],
      "metadata": {
        "colab": {
          "base_uri": "https://localhost:8080/"
        },
        "id": "2CRwd8XpayiB",
        "outputId": "0f05f258-2c37-46f5-ac48-9cfd33e03bb5"
      },
      "execution_count": null,
      "outputs": [
        {
          "output_type": "execute_result",
          "data": {
            "text/plain": [
              "(np.int64(4), np.int64(0), np.int64(8), np.int64(7))"
            ]
          },
          "metadata": {},
          "execution_count": 121
        }
      ]
    },
    {
      "cell_type": "code",
      "source": [
        "#indexing in 3d   matrix[which 2d array want,row in 2d,col in 2d]\n",
        "a3[0,0,1],a3[1,1,1],a3[0,0,0]\n",
        "#indexing in 4d matrix[which 3d u want,which 2d u want,row,column]\n",
        "#indexing in nd matrix[which nd u want,which n-1 d u want ......,when 2d comes,row,column]"
      ],
      "metadata": {
        "colab": {
          "base_uri": "https://localhost:8080/"
        },
        "id": "gahpA2BVb-KX",
        "outputId": "a0123ac5-e3f8-47e1-89a2-98577018fa3a"
      },
      "execution_count": null,
      "outputs": [
        {
          "output_type": "execute_result",
          "data": {
            "text/plain": [
              "(np.int64(1), np.int64(7), np.int64(0))"
            ]
          },
          "metadata": {},
          "execution_count": 124
        }
      ]
    },
    {
      "cell_type": "code",
      "source": [
        "#slicing in 1d----> last not included   mat[first,last,gap b/w first and last]--->+ve indexing   mat[last,first,jump]--->-ve indexing\n",
        "a1,a1[2:5],a1[-3:-1],a1[1:3:2]"
      ],
      "metadata": {
        "colab": {
          "base_uri": "https://localhost:8080/"
        },
        "id": "0tZcaQaYcLNj",
        "outputId": "df1eec31-d003-4f3a-bf31-32c1c5ac1d83"
      },
      "execution_count": null,
      "outputs": [
        {
          "output_type": "execute_result",
          "data": {
            "text/plain": [
              "(array([0, 1, 2, 3, 4, 5, 6, 7, 8, 9]),\n",
              " array([2, 3, 4]),\n",
              " array([7, 8]),\n",
              " array([1]))"
            ]
          },
          "metadata": {},
          "execution_count": 134
        }
      ]
    },
    {
      "cell_type": "code",
      "source": [
        "#slicing in 2d   mat[row:,:col]---. if u want to include all rows or col make sure \":\" has to present\n",
        "a2,a2[0,:]"
      ],
      "metadata": {
        "colab": {
          "base_uri": "https://localhost:8080/"
        },
        "id": "kmlGeLKocLQ7",
        "outputId": "7db8eebf-38e0-4ee1-b881-f97c931f40e7"
      },
      "execution_count": null,
      "outputs": [
        {
          "output_type": "execute_result",
          "data": {
            "text/plain": [
              "(array([[0, 1, 2],\n",
              "        [3, 4, 5],\n",
              "        [6, 7, 8]]),\n",
              " array([0, 1, 2]))"
            ]
          },
          "metadata": {},
          "execution_count": 138
        }
      ]
    },
    {
      "cell_type": "code",
      "source": [
        "#steps:\n",
        "# make u question which row u want and which col u want thats it matrix[startingrow:endingrow,startingcol:ending col]  ::---> 2 times jump >::: 3 times jump\n",
        "a2[:,2],a2[2,:],a2[0:2,1:3],a2[:,0:2],5,a2[:,:],a2[0:3:2,:],a2[0:3:2,0:3:2],a2[2:3,2:3],a2[0,0:2],a2[::2,::2]"
      ],
      "metadata": {
        "colab": {
          "base_uri": "https://localhost:8080/"
        },
        "id": "tC6SqMuNf9eF",
        "outputId": "26e27337-464e-4dfb-c23a-119bddbfc8fa"
      },
      "execution_count": null,
      "outputs": [
        {
          "output_type": "execute_result",
          "data": {
            "text/plain": [
              "(array([2, 5, 8]),\n",
              " array([6, 7, 8]),\n",
              " array([[1, 2],\n",
              "        [4, 5]]),\n",
              " array([[0, 1],\n",
              "        [3, 4],\n",
              "        [6, 7]]),\n",
              " 5,\n",
              " array([[0, 1, 2],\n",
              "        [3, 4, 5],\n",
              "        [6, 7, 8]]),\n",
              " array([[0, 1, 2],\n",
              "        [6, 7, 8]]),\n",
              " array([[0, 2],\n",
              "        [6, 8]]),\n",
              " array([[8]]),\n",
              " array([0, 1]),\n",
              " array([[0, 2],\n",
              "        [6, 8]]))"
            ]
          },
          "metadata": {},
          "execution_count": 161
        }
      ]
    },
    {
      "cell_type": "code",
      "source": [
        "#slicing in 3d mat[which 2d mat u want ,]\n",
        "a3=np.arange(27).reshape(3,3,3)\n",
        "a3"
      ],
      "metadata": {
        "colab": {
          "base_uri": "https://localhost:8080/"
        },
        "id": "IKNih588eZ8w",
        "outputId": "895fbe94-dfc8-4fa3-e046-583231e69fa4"
      },
      "execution_count": null,
      "outputs": [
        {
          "output_type": "execute_result",
          "data": {
            "text/plain": [
              "array([[[ 0,  1,  2],\n",
              "        [ 3,  4,  5],\n",
              "        [ 6,  7,  8]],\n",
              "\n",
              "       [[ 9, 10, 11],\n",
              "        [12, 13, 14],\n",
              "        [15, 16, 17]],\n",
              "\n",
              "       [[18, 19, 20],\n",
              "        [21, 22, 23],\n",
              "        [24, 25, 26]]])"
            ]
          },
          "metadata": {},
          "execution_count": 164
        }
      ]
    },
    {
      "cell_type": "code",
      "source": [
        "a3[2,:,:],a3[0,:,:],a3[1,0:2,0:2],a3[1,::2,::2],a3[1,0:3:2,0:3:2],a3[0,:,1:3],a3[1],a3[::2],a3[0:3:2]"
      ],
      "metadata": {
        "colab": {
          "base_uri": "https://localhost:8080/"
        },
        "id": "jYsZO2qCeZ_U",
        "outputId": "ffd53e8f-a44c-422a-83f6-d413a329414e"
      },
      "execution_count": null,
      "outputs": [
        {
          "output_type": "execute_result",
          "data": {
            "text/plain": [
              "(array([[18, 19, 20],\n",
              "        [21, 22, 23],\n",
              "        [24, 25, 26]]),\n",
              " array([[0, 1, 2],\n",
              "        [3, 4, 5],\n",
              "        [6, 7, 8]]),\n",
              " array([[ 9, 10],\n",
              "        [12, 13]]),\n",
              " array([[ 9, 11],\n",
              "        [15, 17]]),\n",
              " array([[ 9, 11],\n",
              "        [15, 17]]),\n",
              " array([[1, 2],\n",
              "        [4, 5],\n",
              "        [7, 8]]),\n",
              " array([[ 9, 10, 11],\n",
              "        [12, 13, 14],\n",
              "        [15, 16, 17]]),\n",
              " array([[[ 0,  1,  2],\n",
              "         [ 3,  4,  5],\n",
              "         [ 6,  7,  8]],\n",
              " \n",
              "        [[18, 19, 20],\n",
              "         [21, 22, 23],\n",
              "         [24, 25, 26]]]),\n",
              " array([[[ 0,  1,  2],\n",
              "         [ 3,  4,  5],\n",
              "         [ 6,  7,  8]],\n",
              " \n",
              "        [[18, 19, 20],\n",
              "         [21, 22, 23],\n",
              "         [24, 25, 26]]]))"
            ]
          },
          "metadata": {},
          "execution_count": 174
        }
      ]
    },
    {
      "cell_type": "code",
      "source": [
        "a3[2,::2,:2],a3[1,:,1],a3[2,1:,1:]"
      ],
      "metadata": {
        "colab": {
          "base_uri": "https://localhost:8080/"
        },
        "id": "Q8t3UYTfeaCV",
        "outputId": "fabdd75b-58f2-4d1b-d5c9-f1ab302cb596"
      },
      "execution_count": null,
      "outputs": [
        {
          "output_type": "execute_result",
          "data": {
            "text/plain": [
              "(array([[18, 19],\n",
              "        [24, 25]]),\n",
              " array([10, 13, 16]),\n",
              " array([[22, 23],\n",
              "        [25, 26]]))"
            ]
          },
          "metadata": {},
          "execution_count": 176
        }
      ]
    },
    {
      "cell_type": "code",
      "source": [
        "a3[::2,0,::2]"
      ],
      "metadata": {
        "colab": {
          "base_uri": "https://localhost:8080/"
        },
        "id": "CRG4EZkJnl8g",
        "outputId": "81b79a59-c77a-4248-d931-98edb502ce78"
      },
      "execution_count": null,
      "outputs": [
        {
          "output_type": "execute_result",
          "data": {
            "text/plain": [
              "array([[ 0,  2],\n",
              "       [18, 20]])"
            ]
          },
          "metadata": {},
          "execution_count": 179
        }
      ]
    },
    {
      "cell_type": "markdown",
      "source": [
        "# Iterating"
      ],
      "metadata": {
        "id": "J7UdPikhoci0"
      }
    },
    {
      "cell_type": "code",
      "source": [
        "#1d\n",
        "a1\n",
        "for i in a1:\n",
        "  print(i)"
      ],
      "metadata": {
        "colab": {
          "base_uri": "https://localhost:8080/"
        },
        "id": "_8RGevcXolgT",
        "outputId": "895862a6-dde7-427c-9fa7-b482b3bc6287"
      },
      "execution_count": null,
      "outputs": [
        {
          "output_type": "stream",
          "name": "stdout",
          "text": [
            "0\n",
            "1\n",
            "2\n",
            "3\n",
            "4\n",
            "5\n",
            "6\n",
            "7\n",
            "8\n",
            "9\n"
          ]
        }
      ]
    },
    {
      "cell_type": "code",
      "source": [
        "#2d---> iterating on 2d prints 1d arrays\n",
        "for i in a2:\n",
        "  print(i)"
      ],
      "metadata": {
        "colab": {
          "base_uri": "https://localhost:8080/"
        },
        "id": "X-SntaV-o04j",
        "outputId": "4a9cff69-3cfb-4431-ae81-08a42c3e39d9"
      },
      "execution_count": null,
      "outputs": [
        {
          "output_type": "stream",
          "name": "stdout",
          "text": [
            "[0 1 2]\n",
            "[3 4 5]\n",
            "[6 7 8]\n"
          ]
        }
      ]
    },
    {
      "cell_type": "code",
      "source": [
        "#3d--> iterting in 3d prints 2d arrays\n",
        "for i in a3:\n",
        "  print(i)\n",
        "  #or use  loops to iterate over 1d,2d,3d\n",
        "  # for j in i:\n",
        "  #   print(j)\n",
        "  #   for k in j:\n",
        "  #     print(k)"
      ],
      "metadata": {
        "colab": {
          "base_uri": "https://localhost:8080/"
        },
        "id": "iztziv_fpNR3",
        "outputId": "8a928b5f-1e32-4fb5-c64f-3139958ca973"
      },
      "execution_count": null,
      "outputs": [
        {
          "output_type": "stream",
          "name": "stdout",
          "text": [
            "[[0 1]\n",
            " [2 3]]\n",
            "[[4 5]\n",
            " [6 7]]\n"
          ]
        }
      ]
    },
    {
      "cell_type": "code",
      "source": [
        "#nditer---> iterter through elements\n",
        "for i in np.nditer(a3):\n",
        "  print(i)"
      ],
      "metadata": {
        "colab": {
          "base_uri": "https://localhost:8080/"
        },
        "id": "fBYSbURupo4T",
        "outputId": "0d760e19-bd5d-4c07-af74-7a4f1783cbe6"
      },
      "execution_count": null,
      "outputs": [
        {
          "output_type": "stream",
          "name": "stdout",
          "text": [
            "0\n",
            "1\n",
            "2\n",
            "3\n",
            "4\n",
            "5\n",
            "6\n",
            "7\n",
            "8\n",
            "9\n",
            "10\n",
            "11\n",
            "12\n",
            "13\n",
            "14\n",
            "15\n",
            "16\n",
            "17\n",
            "18\n",
            "19\n",
            "20\n",
            "21\n",
            "22\n",
            "23\n",
            "24\n",
            "25\n",
            "26\n"
          ]
        }
      ]
    },
    {
      "cell_type": "markdown",
      "source": [
        "# reshaping"
      ],
      "metadata": {
        "id": "owPHuvifp-k1"
      }
    },
    {
      "cell_type": "code",
      "source": [
        "#reshape--> converts one shape to another\n",
        "a3.reshape(3,9)\n",
        "a3.reshape(3,3,3)\n",
        "a3.size\n",
        "a3.itemsize\n",
        "a3.shape"
      ],
      "metadata": {
        "colab": {
          "base_uri": "https://localhost:8080/"
        },
        "id": "dcxuER2hqEoX",
        "outputId": "99d7ac2e-ff4a-442d-9dbe-3bade0af08f3"
      },
      "execution_count": null,
      "outputs": [
        {
          "output_type": "execute_result",
          "data": {
            "text/plain": [
              "(3, 3, 3)"
            ]
          },
          "metadata": {},
          "execution_count": 195
        }
      ]
    },
    {
      "cell_type": "code",
      "source": [
        "#Transpose---> a2.T gives transpose shortcut\n",
        "a2,np.transpose(a2),a2.T"
      ],
      "metadata": {
        "colab": {
          "base_uri": "https://localhost:8080/"
        },
        "id": "z279U82fqNQm",
        "outputId": "6de5ca75-ca5d-4abe-acdb-b2db35b8fad8"
      },
      "execution_count": null,
      "outputs": [
        {
          "output_type": "execute_result",
          "data": {
            "text/plain": [
              "(array([[0, 1, 2],\n",
              "        [3, 4, 5],\n",
              "        [6, 7, 8]]),\n",
              " array([[0, 3, 6],\n",
              "        [1, 4, 7],\n",
              "        [2, 5, 8]]),\n",
              " array([[0, 3, 6],\n",
              "        [1, 4, 7],\n",
              "        [2, 5, 8]]))"
            ]
          },
          "metadata": {},
          "execution_count": 187
        }
      ]
    },
    {
      "cell_type": "code",
      "source": [
        "#ravel---. converts into 1d array\n",
        "a3.ravel()"
      ],
      "metadata": {
        "colab": {
          "base_uri": "https://localhost:8080/"
        },
        "id": "I9TcSzQzqNUb",
        "outputId": "ae5c7a59-962a-4d53-8f60-7a9bb3bba98f"
      },
      "execution_count": null,
      "outputs": [
        {
          "output_type": "execute_result",
          "data": {
            "text/plain": [
              "array([0, 1, 2, 3, 4, 5, 6, 7])"
            ]
          },
          "metadata": {},
          "execution_count": 9
        }
      ]
    },
    {
      "cell_type": "markdown",
      "source": [
        "## **stacking**"
      ],
      "metadata": {
        "id": "cPVCh4ilrhab"
      }
    },
    {
      "cell_type": "markdown",
      "source": [],
      "metadata": {
        "id": "tg0kznZd_wFz"
      }
    },
    {
      "cell_type": "code",
      "source": [
        "#horizontal stacking----> 1+1=11----> insert matrices one after another\n",
        "a4=np.arange(12).reshape(3,4)\n",
        "a5=np.arange(12,24).reshape(3,4)\n",
        "a4,a5,np.hstack((a4,a5))\n",
        "#(3,4)+(3,4)==(3,8)"
      ],
      "metadata": {
        "colab": {
          "base_uri": "https://localhost:8080/"
        },
        "id": "710pffxZruWg",
        "outputId": "3e6a0331-6ef2-424a-8647-c78286296de5"
      },
      "execution_count": null,
      "outputs": [
        {
          "output_type": "execute_result",
          "data": {
            "text/plain": [
              "(array([[ 0,  1,  2,  3],\n",
              "        [ 4,  5,  6,  7],\n",
              "        [ 8,  9, 10, 11]]),\n",
              " array([[12, 13, 14, 15],\n",
              "        [16, 17, 18, 19],\n",
              "        [20, 21, 22, 23]]),\n",
              " array([[ 0,  1,  2,  3, 12, 13, 14, 15],\n",
              "        [ 4,  5,  6,  7, 16, 17, 18, 19],\n",
              "        [ 8,  9, 10, 11, 20, 21, 22, 23]]))"
            ]
          },
          "metadata": {},
          "execution_count": 200
        }
      ]
    },
    {
      "cell_type": "code",
      "source": [
        "#vertical stacking---->shape should be same (3,4)+(3,4)==(6,4)\n",
        "np.vstack((a4,a5))"
      ],
      "metadata": {
        "colab": {
          "base_uri": "https://localhost:8080/"
        },
        "id": "6VKX05essY21",
        "outputId": "292feec1-463a-4d1e-c5b6-d2e3894d0987"
      },
      "execution_count": null,
      "outputs": [
        {
          "output_type": "execute_result",
          "data": {
            "text/plain": [
              "array([[ 0,  1,  2,  3],\n",
              "       [ 4,  5,  6,  7],\n",
              "       [ 8,  9, 10, 11],\n",
              "       [12, 13, 14, 15],\n",
              "       [16, 17, 18, 19],\n",
              "       [20, 21, 22, 23]])"
            ]
          },
          "metadata": {},
          "execution_count": 201
        }
      ]
    },
    {
      "cell_type": "markdown",
      "source": [
        "# Splitiing"
      ],
      "metadata": {
        "id": "r9i_207PswWk"
      }
    },
    {
      "cell_type": "code",
      "source": [
        "#horizontal splitiing---> revrse of stacking--. splits matrices rows and columns\n",
        "a4,np.hsplit(a4,2),np.vsplit(a4,3)\n"
      ],
      "metadata": {
        "colab": {
          "base_uri": "https://localhost:8080/"
        },
        "id": "PJ2UGj1gsyoD",
        "outputId": "2844022b-cb94-4842-ad07-e9452e611a8c"
      },
      "execution_count": null,
      "outputs": [
        {
          "output_type": "execute_result",
          "data": {
            "text/plain": [
              "(array([[ 0,  1,  2,  3],\n",
              "        [ 4,  5,  6,  7],\n",
              "        [ 8,  9, 10, 11]]),\n",
              " [array([[0, 1],\n",
              "         [4, 5],\n",
              "         [8, 9]]),\n",
              "  array([[ 2,  3],\n",
              "         [ 6,  7],\n",
              "         [10, 11]])],\n",
              " [array([[0, 1, 2, 3]]), array([[4, 5, 6, 7]]), array([[ 8,  9, 10, 11]])])"
            ]
          },
          "metadata": {},
          "execution_count": 204
        }
      ]
    }
  ]
}